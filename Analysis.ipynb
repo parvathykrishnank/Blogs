{
 "cells": [
  {
   "cell_type": "code",
   "execution_count": null,
   "metadata": {},
   "outputs": [],
   "source": [
    "import pandas as pd\n",
    "import plotly.express as px\n",
    "import plotly.graph_objects as go\n",
    "\n",
    "pd.set_option('display.max_colwidth', 0)\n",
    "\n",
    "import chart_studio\n",
    "chart_studio.tools.set_credentials_file(username='YourUserName', api_key='YourAPIKey')\n",
    "import chart_studio.plotly as py"
   ]
  },
  {
   "cell_type": "code",
   "execution_count": null,
   "metadata": {},
   "outputs": [],
   "source": [
    "df_master_company_sel = pd.read_pickle('Data_2021_updated.pkl')"
   ]
  },
  {
   "cell_type": "code",
   "execution_count": null,
   "metadata": {},
   "outputs": [],
   "source": [
    "df_master_company_sel.head(2)"
   ]
  },
  {
   "cell_type": "code",
   "execution_count": null,
   "metadata": {},
   "outputs": [],
   "source": [
    "df_master_company_sel['year_of_registration'] = df_master_company_sel['date_of_registration'].apply(lambda x:x.split('-')[0])\n",
    "df_master_company_sel['year_of_registration'] = df_master_company_sel['year_of_registration'].astype(int)\n",
    "\n",
    "df_master_company_sel = df_master_company_sel[df_master_company_sel['year_of_registration']>=2000]\n",
    "df_master_company_sel = df_master_company_sel[df_master_company_sel['year_of_registration']<=2021]\n",
    "\n",
    "df_master_company_sel = df_master_company_sel[['corporate_identification_number','company_name','company_status','company_class',\n",
    "                      'company_category','date_of_registration','registered_state',\n",
    "                       'principal_business_activity_as_per_cin','year_of_registration']]\n",
    "\n",
    "df_master_company_sel = df_master_company_sel.drop_duplicates()\n"
   ]
  },
  {
   "cell_type": "code",
   "execution_count": null,
   "metadata": {},
   "outputs": [],
   "source": [
    "len(df_master_company_sel)"
   ]
  },
  {
   "cell_type": "code",
   "execution_count": null,
   "metadata": {},
   "outputs": [],
   "source": [
    "df_master_company_sel.head(2)"
   ]
  },
  {
   "cell_type": "code",
   "execution_count": null,
   "metadata": {},
   "outputs": [],
   "source": [
    "df_master_company_sel.info()"
   ]
  },
  {
   "cell_type": "code",
   "execution_count": null,
   "metadata": {},
   "outputs": [],
   "source": [
    "df_company_status = df_master_company_sel.groupby(['company_status'])['corporate_identification_number'].nunique().reset_index()\n",
    "df_company_status = df_company_status.sort_values(by='corporate_identification_number')\n",
    "df_company_status['title'] = df_company_status['company_status'].apply(lambda x:x.replace(' ','<br>'))\n",
    "\n",
    "fig = px.bar(df_company_status,x='title',y='corporate_identification_number',text='corporate_identification_number')\n",
    "fig.update_xaxes(title='Company Status')\n",
    "fig.update_yaxes(title='Number of Companies')\n",
    "fig.update_layout(xaxis = go.layout.XAxis(tickangle = 0))\n",
    "fig.update_layout(plot_bgcolor='white')\n",
    "\n",
    "fig.update_layout(\n",
    "    font=dict(\n",
    "        size=9\n",
    "    )\n",
    ")\n"
   ]
  },
  {
   "cell_type": "code",
   "execution_count": null,
   "metadata": {},
   "outputs": [],
   "source": [
    "active_companies = df_master_company_sel[df_master_company_sel['company_status']=='Active']\n",
    "prop = active_companies['corporate_identification_number'].nunique()/df_master_company_sel['corporate_identification_number'].nunique()\n",
    "round(prop*100)\n"
   ]
  },
  {
   "cell_type": "code",
   "execution_count": null,
   "metadata": {},
   "outputs": [],
   "source": [
    "df_active_companies = df_master_company_sel[df_master_company_sel['company_status']=='Active']"
   ]
  },
  {
   "cell_type": "code",
   "execution_count": null,
   "metadata": {},
   "outputs": [],
   "source": [
    "df_active_companies['year_of_registration'] = df_active_companies['date_of_registration'].apply(lambda x:x.split('-')[0])\n",
    "df_active_companies['year_of_registration'] = df_active_companies['year_of_registration'].astype(int)\n",
    "\n",
    "df_yearly_registrations = df_active_companies.groupby('year_of_registration')['corporate_identification_number'].nunique().reset_index()\n",
    "\n",
    "fig = px.bar(df_yearly_registrations,x='year_of_registration',\n",
    "             y='corporate_identification_number')\n",
    "fig.update_xaxes(title='Year of registration')\n",
    "fig.update_yaxes(title='Number of Companies')\n",
    "fig.update_layout(plot_bgcolor='white')\n",
    "fig.update_traces(marker_color='green')\n"
   ]
  },
  {
   "cell_type": "code",
   "execution_count": null,
   "metadata": {},
   "outputs": [],
   "source": [
    "df_state_registrations = df_active_companies.groupby(['registered_state'])['corporate_identification_number'].nunique().reset_index()\n",
    "df_state_registrations = df_state_registrations.sort_values(by='corporate_identification_number')\n",
    "\n",
    "fig = px.bar(df_state_registrations,x='registered_state',\n",
    "             y='corporate_identification_number', text='corporate_identification_number')\n",
    "fig.update_xaxes(title='Registered State')\n",
    "fig.update_yaxes(title='Number of Companies')\n",
    "fig.update_layout(xaxis = go.layout.XAxis(tickangle = 90))\n",
    "fig.update_layout(plot_bgcolor='white')\n",
    "fig.update_traces(marker_color='purple')\n",
    "\n",
    "fig.update_layout(\n",
    "    font=dict(\n",
    "        size=10\n",
    "    )\n",
    ")"
   ]
  },
  {
   "cell_type": "code",
   "execution_count": null,
   "metadata": {},
   "outputs": [],
   "source": [
    "df_active_companies['principal_business_activity_as_per_cin'].nunique()"
   ]
  },
  {
   "cell_type": "code",
   "execution_count": null,
   "metadata": {},
   "outputs": [],
   "source": [
    "df_active_companies['principal_business_activity_as_per_cin'].unique()"
   ]
  },
  {
   "cell_type": "code",
   "execution_count": null,
   "metadata": {},
   "outputs": [],
   "source": [
    "business_activity_active = df_active_companies.groupby(['principal_business_activity_as_per_cin'])['corporate_identification_number'].nunique().reset_index()\n",
    "business_activity_active = business_activity_active.sort_values(by='corporate_identification_number')\n",
    "business_activity_active['%'] = business_activity_active['corporate_identification_number']*100/df_active_companies['corporate_identification_number'].nunique()\n",
    "business_activity_active = business_activity_active.round(3)\n",
    "business_activity_active.columns = ['Business Activity','# of Companies','% of total active companies']"
   ]
  },
  {
   "cell_type": "code",
   "execution_count": null,
   "metadata": {},
   "outputs": [],
   "source": [
    "business_activity_active.sort_values(by='% of total active companies').tail(5)"
   ]
  },
  {
   "cell_type": "code",
   "execution_count": null,
   "metadata": {},
   "outputs": [],
   "source": [
    "not_active_companies = df_master_company_sel[df_master_company_sel['company_status']!='Active']\n",
    "df1 = not_active_companies.groupby(['principal_business_activity_as_per_cin'])['corporate_identification_number'].nunique().reset_index()\n",
    "df2 = df_master_company_sel.groupby(['principal_business_activity_as_per_cin'])['corporate_identification_number'].nunique().reset_index()\n",
    "\n",
    "df1.columns = ['business_activity','non_active_company_count']\n",
    "df2.columns = ['business_activity','total_company_count']\n",
    "\n",
    "df_activity = pd.merge(df1,df2,on='business_activity')\n",
    "df_activity['%'] = df_activity['non_active_company_count']*100/df_activity['total_company_count']\n"
   ]
  },
  {
   "cell_type": "code",
   "execution_count": null,
   "metadata": {},
   "outputs": [],
   "source": [
    "df_activity.sort_values(by='%',ascending=False).round().head(5)\n"
   ]
  },
  {
   "cell_type": "code",
   "execution_count": null,
   "metadata": {},
   "outputs": [],
   "source": [
    "df_activity.sort_values(by='%',ascending=False).round().tail(5)"
   ]
  },
  {
   "cell_type": "code",
   "execution_count": null,
   "metadata": {},
   "outputs": [],
   "source": [
    "df_active_companies.head(2)"
   ]
  },
  {
   "cell_type": "code",
   "execution_count": null,
   "metadata": {},
   "outputs": [],
   "source": [
    "df_2000 = df_active_companies[df_active_companies['year_of_registration']==2000]\n",
    "df_2020 = df_active_companies[df_active_companies['year_of_registration']==2020]\n",
    "\n",
    "df_2000 = df_2000.groupby('registered_state')['corporate_identification_number'].nunique().reset_index()\n",
    "df_2020 = df_2020.groupby('registered_state')['corporate_identification_number'].nunique().reset_index()\n",
    "df_total = df_active_companies.groupby('registered_state')['corporate_identification_number'].nunique().reset_index()\n",
    "\n",
    "df_2000.columns = ['state','2000_companies']\n",
    "df_2020.columns = ['state','2020_companies']\n",
    "df_total.columns = ['state','total_companies']\n",
    "\n",
    "df_combined = pd.merge(df_2000,df_2020,on='state')\n",
    "df_combined = pd.merge(df_combined,df_total,on='state')\n",
    "\n",
    "df_combined['% change'] = (df_combined['2020_companies'] - df_combined['2000_companies'])/df_combined['2000_companies']\n",
    "df_combined['% change'] = (df_combined['% change']*100).round(2)\n",
    "\n",
    "fig = px.scatter(df_combined,x='2000_companies',y='2020_companies',\n",
    "                 size='total_companies',hover_name='state')\n",
    "\n",
    "fig.update_xaxes(title='Number of companies registered in 2000')\n",
    "fig.update_yaxes(title='Number of companies registered in 2020')\n",
    "\n",
    "fig.update_layout(plot_bgcolor='white')\n",
    "fig.update_traces(marker_color='purple')\n",
    "\n",
    "fig.update_layout(\n",
    "    font=dict(\n",
    "        size=12\n",
    "    )\n",
    ")\n",
    "\n",
    "\n",
    "py.plot(fig, filename = 'PercentageChange', auto_open=True)"
   ]
  },
  {
   "cell_type": "code",
   "execution_count": null,
   "metadata": {},
   "outputs": [],
   "source": [
    "df_combined.sort_values(by='% change').head(5)"
   ]
  },
  {
   "cell_type": "code",
   "execution_count": null,
   "metadata": {},
   "outputs": [],
   "source": [
    "df_combined.sort_values(by='% change').tail(5)"
   ]
  },
  {
   "cell_type": "code",
   "execution_count": null,
   "metadata": {},
   "outputs": [],
   "source": []
  }
 ],
 "metadata": {
  "kernelspec": {
   "display_name": "Python 3",
   "language": "python",
   "name": "python3"
  },
  "language_info": {
   "codemirror_mode": {
    "name": "ipython",
    "version": 3
   },
   "file_extension": ".py",
   "mimetype": "text/x-python",
   "name": "python",
   "nbconvert_exporter": "python",
   "pygments_lexer": "ipython3",
   "version": "3.8.3"
  }
 },
 "nbformat": 4,
 "nbformat_minor": 4
}
